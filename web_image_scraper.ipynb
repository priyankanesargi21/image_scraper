{
 "cells": [
  {
   "cell_type": "code",
   "execution_count": 2,
   "metadata": {},
   "outputs": [],
   "source": [
    "#importing all the required packages\n",
    "import requests\n",
    "import logging\n",
    "import os\n",
    "from bs4 import BeautifulSoup\n",
    "from urllib.request import urlopen"
   ]
  },
  {
   "cell_type": "code",
   "execution_count": 3,
   "metadata": {},
   "outputs": [],
   "source": [
    "#creating a images dir to save all images\n",
    "save_dir = \"images/\"\n",
    "if not os.path.exists(save_dir):\n",
    "    os.makedirs(save_dir)"
   ]
  },
  {
   "cell_type": "code",
   "execution_count": 21,
   "metadata": {},
   "outputs": [],
   "source": [
    "#defining the query what needs to be searched and url from where the query needs to be searched\n",
    "query = \"narendra modi\"\n",
    "url = f\"https://www.google.com/search?q={query}&sca_esv=d22370baf961194e&udm=2&biw=1440&bih=743&sxsrf=ADLYWIIjUvXdzQ4NSjGqns5ScgKZz2v3fg%3A1718954924024&ei=rCt1Zq2WAdCV4-EPnZSHgAM&ved=0ahUKEwitnIaNluyGAxXQyjgGHR3KATAQ4dUDCBA&uact=5&oq=narendra+modi&gs_lp=Egxnd3Mtd2l6LXNlcnAiDW5hcmVuZHJhIG1vZGkyBBAjGCcyCBAAGIAEGLEDMggQABiABBixAzIIEAAYgAQYsQNIiC9QAFgAcAJ4AJABAJgBAKABAKoBALgBA8gBAJgCAqACCZgDAIgGAZIHATKgBwA&sclient=gws-wiz-serp\""
   ]
  },
  {
   "cell_type": "code",
   "execution_count": 22,
   "metadata": {},
   "outputs": [],
   "source": [
    "#with the help of requests we are fetching data from the defined url\n",
    "resp = requests.get(url)"
   ]
  },
  {
   "cell_type": "code",
   "execution_count": 23,
   "metadata": {},
   "outputs": [
    {
     "data": {
      "text/plain": [
       "<Response [200]>"
      ]
     },
     "execution_count": 23,
     "metadata": {},
     "output_type": "execute_result"
    }
   ],
   "source": [
    "resp"
   ]
  },
  {
   "cell_type": "markdown",
   "metadata": {},
   "source": [
    "Now we have fetched the data from the given url, now we will be using BeautifulSoup to fetch content of the response. In other words, we are using BeautifulSoup for parsing the html/xml content."
   ]
  },
  {
   "cell_type": "code",
   "execution_count": 24,
   "metadata": {},
   "outputs": [],
   "source": [
    "soup = BeautifulSoup(resp.content, \"html.parser\")"
   ]
  },
  {
   "cell_type": "code",
   "execution_count": 25,
   "metadata": {},
   "outputs": [
    {
     "data": {
      "text/plain": [
       "<!DOCTYPE html PUBLIC \"-//WAPFORUM//DTD XHTML Mobile 1.0//EN\" \"http://www.wapforum.org/DTD/xhtml-mobile10.dtd\">\n",
       "<html lang=\"en-IN\" xmlns=\"http://www.w3.org/1999/xhtml\"><head><meta content=\"application/xhtml+xml; charset=utf-8\" http-equiv=\"Content-Type\"/><meta content=\"no-cache\" name=\"Cache-Control\"/><title>narendra modi - Google Search</title><style>a{text-decoration:none;color:inherit}a:hover{text-decoration:underline}a img{border:0}body{font-family:arial,sans-serif;padding:8px;margin:0 auto;max-width:700px;min-width:240px;}.FbhRzb{border-left:thin solid #dadce0;border-right:thin solid #dadce0;border-top:thin solid #dadce0;height:40px;overflow:hidden}.n692Zd{margin-bottom:10px}.cvifge{height:40px;border-spacing:0}.QvGUP{height:40px;padding:0 8px 0 8px;vertical-align:top}.O4cRJf{height:40px;width:100%;padding:0;padding-right:14px}.O1ePr{height:40px;padding:0;vertical-align:top}.kgJEQe{height:36px;width:98px;vertical-align:top;margin-top:4px}.lXLRf{vertical-align:top}.MhzMZd{border:0;vertical-align:middle;font-size:14px;height:40px;padding:0;width:100%;padding-left:14px}.xB0fq{height:40px;border:none;font-size:14px;background-color:#1a73e8;color:#fff;padding:0 14px;margin:0;vertical-align:top;cursor:pointer}.xB0fq:focus{border:1px solid #1a73e8}.M7pB2{border:thin solid #dadce0;margin:0 0 3px 0;font-size:13px;font-weight:500;height:40px}.euZec{width:100%;height:40px;text-align:center;border-spacing:0}table.euZec td{padding:0;width:25%}.QIqI7{display:inline-block;padding-top:4px;font-weight:bold;color:#4285f4}.EY24We{border-bottom:2px solid #4285f4}.CsQyDc{display:inline-block;color:#70757a}.TuS8Ad{font-size:14px}.HddGcc{padding:8px;color:#70757a}.dzp8ae{font-weight:bold;color:#3c4043}.rEM8G{color:#70757a}.bookcf{table-layout:fixed;width:100%;border-spacing:0}.InWNIe{text-align:center}.uZgmoc{border:thin solid #dadce0;color:#70757a;font-size:14px;text-align:center;table-layout:fixed;width:100%}.frGj1b{display:block;padding:16px 0 12px 0;width:100%}.BnJWBc{text-align:center;padding:6px 0 13px 0;height:35px}.e3goi{vertical-align:top;padding:0;height:180px}.GpQGbf{margin:auto;border-collapse:collapse;border-spacing:0;width:100%}</style></head><body><style>.X6ZCif{color:#202124;font-size:11px;line-height:16px;display:inline-block;padding-top:2px;overflow:hidden;padding-bottom:4px;width:100%}.TwVfHd{border-radius:16px;border:thin solid #dadce0;display:inline-block;padding:8px 8px;margin-right:8px;margin-bottom:4px}.yekiAe{background-color:#dadce0}.jjVJ4e{width:100%}.ezO2md{border:thin solid #dadce0;padding:16px 14px 12px 14px;margin-bottom:10px;font-family:arial,sans-serif}.lIMUZd{font-family:arial,sans-serif}.RntSmf{border-spacing:0}.lgD2Tc{width:100%}.SpelHe{text-align:center}.SpelHe{position:relative}.kCmkOe{position:relative}.kCmkOe{width:162px;height:140px;line-height:140px;overflow:'hidden';text-align:center}.DS1iW{text-align:center;margin:auto;vertical-align:middle;max-width:162px;max-height:140px}.AlD19d{padding-top:2px;padding-bottom:8px;}.fYyStc{word-break:break-word}.ynsChf{display:block;white-space:nowrap;overflow:hidden;text-overflow:ellipsis}.Fj3V3b{color:#1967d2;font-size:14px;line-height:20px}.FrIlee{color:#202124;font-size:11px;line-height:16px}.F9iS2e{color:#70757a;font-size:11px;line-height:16px}.WMQ2Le{color:#70757a;font-size:12px;line-height:16px}.x3G5ab{color:#202124;font-size:12px;line-height:16px}.fuLhoc{color:#1967d2;font-size:16px;line-height:20px}.epoveb{font-size:24px;line-height:28px;font-weight:400;color:#202124}.dXDvrc{color:#0d652d;font-size:14px;line-height:20px;word-wrap:break-word}.dloBPe{font-weight:bold}.YVIcad{color:#70757a}.JkVVdd{color:#ea4335}.oXZRFd{color:#ea4335}.MQHtg{color:#fbbc04}.pyMRrb{color:#1e8e3e}.EtTZid{color:#1e8e3e}.M3vVJe{color:#1967d2}.qXLe6d{display:block}.NHQNef{font-style:italic}.Cb8Z7c{white-space:pre}a.ZWRArf{text-decoration:none}a .CVA68e:hover{text-decoration:underline}</style><div class=\"n692Zd\"><div class=\"BnJWBc\"><a class=\"lXLRf\" href=\"/?sca_esv=d22370baf961194e&amp;biw=1440&amp;bih=743&amp;output=images&amp;ie=UTF-8&amp;tbm=isch&amp;sa=X&amp;ved=0ahUKEwjU_8GrluyGAxXIRWwGHZj-AkAQPAgC\"><img alt=\"Google\" class=\"kgJEQe\" src=\"/images/branding/searchlogo/1x/googlelogo_desk_heirloom_color_150x55dp.gif\"/></a></div><div class=\"FbhRzb\"><form action=\"/search\"><input name=\"sca_esv\" type=\"hidden\" value=\"d22370baf961194e\"/><input name=\"biw\" type=\"hidden\" value=\"1440\"/><input name=\"bih\" type=\"hidden\" value=\"743\"/><input name=\"ie\" type=\"hidden\" value=\"ISO-8859-1\"/><input name=\"tbm\" type=\"hidden\" value=\"isch\"/><input name=\"oq\" type=\"hidden\"/><input name=\"aqs\" type=\"hidden\"/><table class=\"cvifge\"><tr><td class=\"O4cRJf\"><input class=\"MhzMZd\" name=\"q\" type=\"text\" value=\"narendra modi\"/></td><td class=\"O1ePr\"><input class=\"xB0fq\" type=\"submit\" value=\"Search\"/></td></tr></table></form></div><div class=\"M7pB2\"><table class=\"euZec\"><tbody><tr><td><a class=\"CsQyDc\" href=\"/search?q=narendra+modi&amp;sca_esv=d22370baf961194e&amp;biw=1440&amp;bih=743&amp;ie=UTF-8&amp;source=lnms&amp;sa=X&amp;ved=0ahUKEwjU_8GrluyGAxXIRWwGHZj-AkAQ_AUIBCgA\">ALL</a></td><td><a class=\"CsQyDc\" href=\"/search?q=narendra+modi&amp;sca_esv=d22370baf961194e&amp;biw=1440&amp;bih=743&amp;ie=UTF-8&amp;tbm=nws&amp;source=lnms&amp;sa=X&amp;ved=0ahUKEwjU_8GrluyGAxXIRWwGHZj-AkAQ_AUIBSgB\">NEWS</a></td><td class=\"EY24We\"><span class=\"QIqI7\">IMAGES</span></td><td><a class=\"CsQyDc\" href=\"/search?q=narendra+modi&amp;sca_esv=d22370baf961194e&amp;biw=1440&amp;bih=743&amp;ie=UTF-8&amp;tbm=vid&amp;source=lnms&amp;sa=X&amp;ved=0ahUKEwjU_8GrluyGAxXIRWwGHZj-AkAQ_AUIBygD\">VIDEOS</a></td></tr></tbody></table></div></div><div><table class=\"GpQGbf\"><tr><td align=\"center\" class=\"e3goi\"><div class=\"jjVJ4e\"> <div> <div class=\"lIMUZd\"><div><table class=\"RntSmf\"><tr><td><a href=\"/url?q=https://www.facebook.com/narendramodi/&amp;sa=U&amp;ved=2ahUKEwjU_8GrluyGAxXIRWwGHZj-AkAQqoUBegQICBAB&amp;usg=AOvVaw0dAvEWDAUXv7y0qa6aY4xo\"><div class=\"kCmkOe\"><img alt=\"\" class=\"DS1iW\" src=\"https://encrypted-tbn0.gstatic.com/images?q=tbn:ANd9GcTkEVfkcyS0Bcu5eQqHV_jeGBdmLc41DKk4RRAkAS1Y7PDYhXuDfVDX-w3K8Co&amp;s\"/></div></a></td></tr><tr><td><a href=\"/url?q=https://www.facebook.com/narendramodi/&amp;sa=U&amp;ved=2ahUKEwjU_8GrluyGAxXIRWwGHZj-AkAQr4kDegQICBAC&amp;usg=AOvVaw0geTZJ1RWn7Aej_OizQy8F\"><div class=\"AlD19d\"> <span class=\"qXLe6d x3G5ab\"> <span class=\"fYyStc\">Narendra Modi</span> </span> <span class=\"qXLe6d F9iS2e\"> <span class=\"fYyStc\">www.facebook.com</span> </span> </div></a></td></tr></table></div></div> </div> </div></td><td align=\"center\" class=\"e3goi\"><div class=\"jjVJ4e\"> <div> <div class=\"lIMUZd\"><div><table class=\"RntSmf\"><tr><td><a href=\"/url?q=https://www.hindustantimes.com/india-news/narendra-modi-jammu-and-kashmir-srinagar-visit-yoga-day-live-updates-latest-news-today-june-20-101718874273973.html&amp;sa=U&amp;ved=2ahUKEwjU_8GrluyGAxXIRWwGHZj-AkAQqoUBegQIEhAB&amp;usg=AOvVaw3JMU_e9aaoHKuaagVGKxdh\"><div class=\"kCmkOe\"><img alt=\"\" class=\"DS1iW\" src=\"https://encrypted-tbn0.gstatic.com/images?q=tbn:ANd9GcRhtqI8zw50X3T2kneo7-OLuHyzZDuniRTR4vQcah9zETuVdorrOtu4Q099rg&amp;s\"/></div></a></td></tr><tr><td><a href=\"/url?q=https://www.hindustantimes.com/india-news/narendra-modi-jammu-and-kashmir-srinagar-visit-yoga-day-live-updates-latest-news-today-june-20-101718874273973.html&amp;sa=U&amp;ved=2ahUKEwjU_8GrluyGAxXIRWwGHZj-AkAQr4kDegQIEhAC&amp;usg=AOvVaw0GT84I63Tx8I2mK3a2XUqT\"><div class=\"AlD19d\"> <span class=\"qXLe6d x3G5ab\"> <span class=\"fYyStc\">Modi Kashmir Visit Updates:...</span> </span> <span class=\"qXLe6d F9iS2e\"> <span class=\"fYyStc\">www.hindustantimes.com</span> </span> </div></a></td></tr></table></div></div> </div> </div></td><td align=\"center\" class=\"e3goi\"><div class=\"jjVJ4e\"> <div> <div class=\"lIMUZd\"><div><table class=\"RntSmf\"><tr><td><a href=\"/url?q=https://en.wikipedia.org/wiki/Narendra_Modi&amp;sa=U&amp;ved=2ahUKEwjU_8GrluyGAxXIRWwGHZj-AkAQqoUBegQIExAB&amp;usg=AOvVaw1clJwYcR3ZDHL5thU7bk5h\"><div class=\"kCmkOe\"><img alt=\"\" class=\"DS1iW\" src=\"https://encrypted-tbn0.gstatic.com/images?q=tbn:ANd9GcQhtFVerrP1xegaggczRaWCrfvA0Xvt2ZycaSmhN_vzMT-PXrqjyLcbY-LW6ao&amp;s\"/></div></a></td></tr><tr><td><a href=\"/url?q=https://en.wikipedia.org/wiki/Narendra_Modi&amp;sa=U&amp;ved=2ahUKEwjU_8GrluyGAxXIRWwGHZj-AkAQr4kDegQIExAC&amp;usg=AOvVaw2xqWvANibVJSgroH8qkd4I\"><div class=\"AlD19d\"> <span class=\"qXLe6d x3G5ab\"> <span class=\"fYyStc\">Narendra Modi - Wikipedia</span> </span> <span class=\"qXLe6d F9iS2e\"> <span class=\"fYyStc\">en.wikipedia.org</span> </span> </div></a></td></tr></table></div></div> </div> </div></td><td align=\"center\" class=\"e3goi\"><div class=\"jjVJ4e\"> <div> <div class=\"lIMUZd\"><div><table class=\"RntSmf\"><tr><td><a href=\"/url?q=https://www.narendramodi.in/prime-minister-narendra-to-visit-jammu-and-kashmir-on-20th-21st-june-583541&amp;sa=U&amp;ved=2ahUKEwjU_8GrluyGAxXIRWwGHZj-AkAQqoUBegQIERAB&amp;usg=AOvVaw2WNymLH85wppGTtzPcQAIk\"><div class=\"kCmkOe\"><img alt=\"\" class=\"DS1iW\" src=\"https://encrypted-tbn0.gstatic.com/images?q=tbn:ANd9GcQiLsuk8xv2Xbb61JiGjZ9sgC0scxfZ9yNTHc_aV-q7twSM5Ni_7tTeIVFfiLQ&amp;s\"/></div></a></td></tr><tr><td><a href=\"/url?q=https://www.narendramodi.in/prime-minister-narendra-to-visit-jammu-and-kashmir-on-20th-21st-june-583541&amp;sa=U&amp;ved=2ahUKEwjU_8GrluyGAxXIRWwGHZj-AkAQr4kDegQIERAC&amp;usg=AOvVaw2ipcCQcqYds3IfWVkaRwqB\"><div class=\"AlD19d\"> <span class=\"qXLe6d x3G5ab\"> <span class=\"fYyStc\">Prime Minister Narendra...</span> </span> <span class=\"qXLe6d F9iS2e\"> <span class=\"fYyStc\">www.narendramodi.in</span> </span> </div></a></td></tr></table></div></div> </div> </div></td></tr><tr><td align=\"center\" class=\"e3goi\"><div class=\"jjVJ4e\"> <div> <div class=\"lIMUZd\"><div><table class=\"RntSmf\"><tr><td><a href=\"/url?q=https://live.worldbank.org/en/experts/n/narendra-modi&amp;sa=U&amp;ved=2ahUKEwjU_8GrluyGAxXIRWwGHZj-AkAQqoUBegQIDxAB&amp;usg=AOvVaw014rcnpEY-lSwnTyqp3632\"><div class=\"kCmkOe\"><img alt=\"\" class=\"DS1iW\" src=\"https://encrypted-tbn0.gstatic.com/images?q=tbn:ANd9GcR5U1JmjNhQIUclzahcQezj9uAbuRIFTFrPqpQeD82xmJbyypFWxbOdF1_h6A&amp;s\"/></div></a></td></tr><tr><td><a href=\"/url?q=https://live.worldbank.org/en/experts/n/narendra-modi&amp;sa=U&amp;ved=2ahUKEwjU_8GrluyGAxXIRWwGHZj-AkAQr4kDegQIDxAC&amp;usg=AOvVaw0R2eP1_-mq9iD5tIv2afVO\"><div class=\"AlD19d\"> <span class=\"qXLe6d x3G5ab\"> <span class=\"fYyStc\">Narendra Modi | World Bank...</span> </span> <span class=\"qXLe6d F9iS2e\"> <span class=\"fYyStc\">live.worldbank.org</span> </span> </div></a></td></tr></table></div></div> </div> </div></td><td align=\"center\" class=\"e3goi\"><div class=\"jjVJ4e\"> <div> <div class=\"lIMUZd\"><div><table class=\"RntSmf\"><tr><td><a href=\"/url?q=https://www.bbc.com/news/world-asia-india-20001001&amp;sa=U&amp;ved=2ahUKEwjU_8GrluyGAxXIRWwGHZj-AkAQqoUBegQIDhAB&amp;usg=AOvVaw0g2E_MrYUBnVUsRphwOo0N\"><div class=\"kCmkOe\"><img alt=\"\" class=\"DS1iW\" src=\"https://encrypted-tbn0.gstatic.com/images?q=tbn:ANd9GcRepSHdSrnD6zcO6lEeMLkrydR81WhQigVX6pr1bPkf4n9zw1G1S4sEmeSVBo0&amp;s\"/></div></a></td></tr><tr><td><a href=\"/url?q=https://www.bbc.com/news/world-asia-india-20001001&amp;sa=U&amp;ved=2ahUKEwjU_8GrluyGAxXIRWwGHZj-AkAQr4kDegQIDhAC&amp;usg=AOvVaw1dt5_16IiJeBfHB83_2dZC\"><div class=\"AlD19d\"> <span class=\"qXLe6d x3G5ab\"> <span class=\"fYyStc\">Narendra Modi: India's...</span> </span> <span class=\"qXLe6d F9iS2e\"> <span class=\"fYyStc\">www.bbc.com</span> </span> </div></a></td></tr></table></div></div> </div> </div></td><td align=\"center\" class=\"e3goi\"><div class=\"jjVJ4e\"> <div> <div class=\"lIMUZd\"><div><table class=\"RntSmf\"><tr><td><a href=\"/url?q=https://en.wikipedia.org/wiki/Narendra_Modi&amp;sa=U&amp;ved=2ahUKEwjU_8GrluyGAxXIRWwGHZj-AkAQqoUBegQIEBAB&amp;usg=AOvVaw0f94-5ECJa-so5H-q90eEF\"><div class=\"kCmkOe\"><img alt=\"\" class=\"DS1iW\" src=\"https://encrypted-tbn0.gstatic.com/images?q=tbn:ANd9GcQrc_lVqQtL9UOadcEbBrqaq3L7UBkT6yfmxIlQs5WVT6XN_Gi5EKClKa1V0A&amp;s\"/></div></a></td></tr><tr><td><a href=\"/url?q=https://en.wikipedia.org/wiki/Narendra_Modi&amp;sa=U&amp;ved=2ahUKEwjU_8GrluyGAxXIRWwGHZj-AkAQr4kDegQIEBAC&amp;usg=AOvVaw0jc9P_N_N0DWPMddiG2mrr\"><div class=\"AlD19d\"> <span class=\"qXLe6d x3G5ab\"> <span class=\"fYyStc\">Narendra Modi - Wikipedia</span> </span> <span class=\"qXLe6d F9iS2e\"> <span class=\"fYyStc\">en.wikipedia.org</span> </span> </div></a></td></tr></table></div></div> </div> </div></td><td align=\"center\" class=\"e3goi\"><div class=\"jjVJ4e\"> <div> <div class=\"lIMUZd\"><div><table class=\"RntSmf\"><tr><td><a href=\"/url?q=https://www.thehindu.com/news/national/pm-modi-urges-supporters-to-remove-modi-ka-parivar-suffix-from-social-media-handles/article68277852.ece&amp;sa=U&amp;ved=2ahUKEwjU_8GrluyGAxXIRWwGHZj-AkAQqoUBegQIDRAB&amp;usg=AOvVaw1cnIcZy_7vZSE6FVMCczQV\"><div class=\"kCmkOe\"><img alt=\"\" class=\"DS1iW\" src=\"https://encrypted-tbn0.gstatic.com/images?q=tbn:ANd9GcTsS_5Ntf6Edev2aiQGvMdr1veka_TZ2LkI8ZVw7u3TC6xdtadrHdDytmuReg&amp;s\"/></div></a></td></tr><tr><td><a href=\"/url?q=https://www.thehindu.com/news/national/pm-modi-urges-supporters-to-remove-modi-ka-parivar-suffix-from-social-media-handles/article68277852.ece&amp;sa=U&amp;ved=2ahUKEwjU_8GrluyGAxXIRWwGHZj-AkAQr4kDegQIDRAC&amp;usg=AOvVaw369-8rlLEUw-8HVp_zqX6T\"><div class=\"AlD19d\"> <span class=\"qXLe6d x3G5ab\"> <span class=\"fYyStc\">PM Modi asks followers to...</span> </span> <span class=\"qXLe6d F9iS2e\"> <span class=\"fYyStc\">www.thehindu.com</span> </span> </div></a></td></tr></table></div></div> </div> </div></td></tr><tr><td align=\"center\" class=\"e3goi\"><div class=\"jjVJ4e\"> <div> <div class=\"lIMUZd\"><div><table class=\"RntSmf\"><tr><td><a href=\"/url?q=https://www.zeebiz.com/india/news-pm-narendra-modi-to-visit-uttar-pradesh-bihar-visit-today-on-june-18-19-latest-news-update-296494&amp;sa=U&amp;ved=2ahUKEwjU_8GrluyGAxXIRWwGHZj-AkAQqoUBegQICxAB&amp;usg=AOvVaw0QZCzSnXAgqj0E0UbwcVfH\"><div class=\"kCmkOe\"><img alt=\"\" class=\"DS1iW\" src=\"https://encrypted-tbn0.gstatic.com/images?q=tbn:ANd9GcSzj6iDfRc1GSrdY7axlj_PC4s3vhYjnLfk-hcsBxGSbgatsqlAzM6boBt3Fg&amp;s\"/></div></a></td></tr><tr><td><a href=\"/url?q=https://www.zeebiz.com/india/news-pm-narendra-modi-to-visit-uttar-pradesh-bihar-visit-today-on-june-18-19-latest-news-update-296494&amp;sa=U&amp;ved=2ahUKEwjU_8GrluyGAxXIRWwGHZj-AkAQr4kDegQICxAC&amp;usg=AOvVaw36qbAagfoK6jlmPtCCw5Sq\"><div class=\"AlD19d\"> <span class=\"qXLe6d x3G5ab\"> <span class=\"fYyStc\">PM Modi to visit Uttar...</span> </span> <span class=\"qXLe6d F9iS2e\"> <span class=\"fYyStc\">www.zeebiz.com</span> </span> </div></a></td></tr></table></div></div> </div> </div></td><td align=\"center\" class=\"e3goi\"><div class=\"jjVJ4e\"> <div> <div class=\"lIMUZd\"><div><table class=\"RntSmf\"><tr><td><a href=\"/url?q=https://www.pmindia.gov.in/en/pms-profile/&amp;sa=U&amp;ved=2ahUKEwjU_8GrluyGAxXIRWwGHZj-AkAQqoUBegQIDBAB&amp;usg=AOvVaw385jYFPesHFWzIGBog6kio\"><div class=\"kCmkOe\"><img alt=\"\" class=\"DS1iW\" src=\"https://encrypted-tbn0.gstatic.com/images?q=tbn:ANd9GcRKrZrjWt_4X1xl2U_XvP4VVWlBAAbCJU13zxBWx4_mFzzUrCl3YQtv4qsO2Q&amp;s\"/></div></a></td></tr><tr><td><a href=\"/url?q=https://www.pmindia.gov.in/en/pms-profile/&amp;sa=U&amp;ved=2ahUKEwjU_8GrluyGAxXIRWwGHZj-AkAQr4kDegQIDBAC&amp;usg=AOvVaw20qc03dbgGaIBqLH0xF_oI\"><div class=\"AlD19d\"> <span class=\"qXLe6d x3G5ab\"> <span class=\"fYyStc\">Know the PM | Prime...</span> </span> <span class=\"qXLe6d F9iS2e\"> <span class=\"fYyStc\">www.pmindia.gov.in</span> </span> </div></a></td></tr></table></div></div> </div> </div></td><td align=\"center\" class=\"e3goi\"><div class=\"jjVJ4e\"> <div> <div class=\"lIMUZd\"><div><table class=\"RntSmf\"><tr><td><a href=\"/url?q=https://indianexpress.com/about/narendra-modi/&amp;sa=U&amp;ved=2ahUKEwjU_8GrluyGAxXIRWwGHZj-AkAQqoUBegQIChAB&amp;usg=AOvVaw1AzzbKjjIaAH0HvsYBd2f9\"><div class=\"kCmkOe\"><img alt=\"\" class=\"DS1iW\" src=\"https://encrypted-tbn0.gstatic.com/images?q=tbn:ANd9GcRya6-sfVYRN5OXXFh9_kusvohcI3hdQDUtogbqHxuzTK6q-UBCWUkM4fMPLc8&amp;s\"/></div></a></td></tr><tr><td><a href=\"/url?q=https://indianexpress.com/about/narendra-modi/&amp;sa=U&amp;ved=2ahUKEwjU_8GrluyGAxXIRWwGHZj-AkAQr4kDegQIChAC&amp;usg=AOvVaw1KTNkIaMdSAGtg6Bq8gr_9\"><div class=\"AlD19d\"> <span class=\"qXLe6d x3G5ab\"> <span class=\"fYyStc\">Latest News on Narendra...</span> </span> <span class=\"qXLe6d F9iS2e\"> <span class=\"fYyStc\">indianexpress.com</span> </span> </div></a></td></tr></table></div></div> </div> </div></td><td align=\"center\" class=\"e3goi\"><div class=\"jjVJ4e\"> <div> <div class=\"lIMUZd\"><div><table class=\"RntSmf\"><tr><td><a href=\"/url?q=https://pmindia.gov.in/&amp;sa=U&amp;ved=2ahUKEwjU_8GrluyGAxXIRWwGHZj-AkAQqoUBegQICRAB&amp;usg=AOvVaw2gFtdySYbAUJ-DMxDuQyKv\"><div class=\"kCmkOe\"><img alt=\"\" class=\"DS1iW\" src=\"https://encrypted-tbn0.gstatic.com/images?q=tbn:ANd9GcRKovT0f969MoDps2s19j-V-Tp5sWDYyeCT7BCdiPsr1hJEiuNPMQoY3qWcJA&amp;s\"/></div></a></td></tr><tr><td><a href=\"/url?q=https://pmindia.gov.in/&amp;sa=U&amp;ved=2ahUKEwjU_8GrluyGAxXIRWwGHZj-AkAQr4kDegQICRAC&amp;usg=AOvVaw1L3GQ_mRLnC_ZLYe431CCu\"><div class=\"AlD19d\"> <span class=\"qXLe6d x3G5ab\"> <span class=\"fYyStc\">Prime Minister of India</span> </span> <span class=\"qXLe6d F9iS2e\"> <span class=\"fYyStc\">pmindia.gov.in</span> </span> </div></a></td></tr></table></div></div> </div> </div></td></tr><tr><td align=\"center\" class=\"e3goi\"><div class=\"jjVJ4e\"> <div> <div class=\"lIMUZd\"><div><table class=\"RntSmf\"><tr><td><a href=\"/url?q=https://m.economictimes.com/news/india/pm-narendra-modi-sworn-in-salary-benefits-aeroplane-home-security-of-indias-prime-minister/4/slideshow/110871491.cms&amp;sa=U&amp;ved=2ahUKEwjU_8GrluyGAxXIRWwGHZj-AkAQqoUBegQIBhAB&amp;usg=AOvVaw0an_j0ERe5t-YwkBmGR3rV\"><div class=\"kCmkOe\"><img alt=\"\" class=\"DS1iW\" src=\"https://encrypted-tbn0.gstatic.com/images?q=tbn:ANd9GcQ298GxPYu5ydy50rWxF4kMVSZ7xpIZG0hz2IYROefhvLAsu7Yf2cyI5-65aiI&amp;s\"/></div></a></td></tr><tr><td><a href=\"/url?q=https://m.economictimes.com/news/india/pm-narendra-modi-sworn-in-salary-benefits-aeroplane-home-security-of-indias-prime-minister/4/slideshow/110871491.cms&amp;sa=U&amp;ved=2ahUKEwjU_8GrluyGAxXIRWwGHZj-AkAQr4kDegQIBhAC&amp;usg=AOvVaw2Kj4zVOh6bhMd0aomu3ak9\"><div class=\"AlD19d\"> <span class=\"qXLe6d x3G5ab\"> <span class=\"fYyStc\">PM Narendra Modi sworn in:...</span> </span> <span class=\"qXLe6d F9iS2e\"> <span class=\"fYyStc\">m.economictimes.com</span> </span> </div></a></td></tr></table></div></div> </div> </div></td><td align=\"center\" class=\"e3goi\"><div class=\"jjVJ4e\"> <div> <div class=\"lIMUZd\"><div><table class=\"RntSmf\"><tr><td><a href=\"/url?q=https://www.narendramodi.in/text-of-prime-minister-narendra-modi-s-video-address-during-summit-for-democracy-580719&amp;sa=U&amp;ved=2ahUKEwjU_8GrluyGAxXIRWwGHZj-AkAQqoUBegQIAhAB&amp;usg=AOvVaw28LSddFqvKmg_8z0MdAwgW\"><div class=\"kCmkOe\"><img alt=\"\" class=\"DS1iW\" src=\"https://encrypted-tbn0.gstatic.com/images?q=tbn:ANd9GcQdG3g6bJhzU7lmN7aPbm8CQHdI5wYchWZWKWJT7byKezwliYg3zTn49l-gqA&amp;s\"/></div></a></td></tr><tr><td><a href=\"/url?q=https://www.narendramodi.in/text-of-prime-minister-narendra-modi-s-video-address-during-summit-for-democracy-580719&amp;sa=U&amp;ved=2ahUKEwjU_8GrluyGAxXIRWwGHZj-AkAQr4kDegQIAhAC&amp;usg=AOvVaw1v-W72poUZ3Ks83E04vDax\"><div class=\"AlD19d\"> <span class=\"qXLe6d x3G5ab\"> <span class=\"fYyStc\">India has an ancient and...</span> </span> <span class=\"qXLe6d F9iS2e\"> <span class=\"fYyStc\">www.narendramodi.in</span> </span> </div></a></td></tr></table></div></div> </div> </div></td><td align=\"center\" class=\"e3goi\"><div class=\"jjVJ4e\"> <div> <div class=\"lIMUZd\"><div><table class=\"RntSmf\"><tr><td><a href=\"/url?q=https://www.business-standard.com/about/who-is-narendra-modi&amp;sa=U&amp;ved=2ahUKEwjU_8GrluyGAxXIRWwGHZj-AkAQqoUBegQIBBAB&amp;usg=AOvVaw16PfMY2TV37jrj6Z6aPeuF\"><div class=\"kCmkOe\"><img alt=\"\" class=\"DS1iW\" src=\"https://encrypted-tbn0.gstatic.com/images?q=tbn:ANd9GcTngqLCvsrv13Ek1yp0193bNFsEjPPn3iU4kkTv38Na9O-azXCDoOh7an1iQLg&amp;s\"/></div></a></td></tr><tr><td><a href=\"/url?q=https://www.business-standard.com/about/who-is-narendra-modi&amp;sa=U&amp;ved=2ahUKEwjU_8GrluyGAxXIRWwGHZj-AkAQr4kDegQIBBAC&amp;usg=AOvVaw2sPDfROttxPx7sWNtgO1-7\"><div class=\"AlD19d\"> <span class=\"qXLe6d x3G5ab\"> <span class=\"fYyStc\">Narendra Modi | Latest News...</span> </span> <span class=\"qXLe6d F9iS2e\"> <span class=\"fYyStc\">www.business-standard.com</span> </span> </div></a></td></tr></table></div></div> </div> </div></td><td align=\"center\" class=\"e3goi\"><div class=\"jjVJ4e\"> <div> <div class=\"lIMUZd\"><div><table class=\"RntSmf\"><tr><td><a href=\"/url?q=https://www.livemint.com/news/india/ram-mandir-consecration-ceremony-saw-pm-narendra-modi-claims-sugarcane-by-products-reduced-dependency-fossil-fuels-11712857188307.html&amp;sa=U&amp;ved=2ahUKEwjU_8GrluyGAxXIRWwGHZj-AkAQqoUBegQIBxAB&amp;usg=AOvVaw29whMm3duUKcaAGV8XEf2W\"><div class=\"kCmkOe\"><img alt=\"\" class=\"DS1iW\" src=\"https://encrypted-tbn0.gstatic.com/images?q=tbn:ANd9GcRAfRKZAfbDqLUoanxqa7iCl2E7xN6GMPtDC9GIYgM4Q_r-dIDzaqNr8B1p1w&amp;s\"/></div></a></td></tr><tr><td><a href=\"/url?q=https://www.livemint.com/news/india/ram-mandir-consecration-ceremony-saw-pm-narendra-modi-claims-sugarcane-by-products-reduced-dependency-fossil-fuels-11712857188307.html&amp;sa=U&amp;ved=2ahUKEwjU_8GrluyGAxXIRWwGHZj-AkAQr4kDegQIBxAC&amp;usg=AOvVaw1VpEp63bdxnxFLV8ZoDHGz\"><div class=\"AlD19d\"> <span class=\"qXLe6d x3G5ab\"> <span class=\"fYyStc\">PM Modi says sugarcane...</span> </span> <span class=\"qXLe6d F9iS2e\"> <span class=\"fYyStc\">www.livemint.com</span> </span> </div></a></td></tr></table></div></div> </div> </div></td></tr><tr><td align=\"center\" class=\"e3goi\"><div class=\"jjVJ4e\"> <div> <div class=\"lIMUZd\"><div><table class=\"RntSmf\"><tr><td><a href=\"/url?q=https://sundayguardianlive.com/opinion/narendra-modi-transforming-mindsets&amp;sa=U&amp;ved=2ahUKEwjU_8GrluyGAxXIRWwGHZj-AkAQqoUBegQIABAB&amp;usg=AOvVaw21Q-g-LwF-OPk-QO30KfQq\"><div class=\"kCmkOe\"><img alt=\"\" class=\"DS1iW\" src=\"https://encrypted-tbn0.gstatic.com/images?q=tbn:ANd9GcTw16_I5KBjOPTyvqbqZo7dU9QM4ruyEACZvFLSxPIgNF5K8hBJWufIOw9L0vI&amp;s\"/></div></a></td></tr><tr><td><a href=\"/url?q=https://sundayguardianlive.com/opinion/narendra-modi-transforming-mindsets&amp;sa=U&amp;ved=2ahUKEwjU_8GrluyGAxXIRWwGHZj-AkAQr4kDegQIABAC&amp;usg=AOvVaw0e-yDBr1rD6T-m6oZ4uQcN\"><div class=\"AlD19d\"> <span class=\"qXLe6d x3G5ab\"> <span class=\"fYyStc\">Narendra Modi: Transforming...</span> </span> <span class=\"qXLe6d F9iS2e\"> <span class=\"fYyStc\">sundayguardianlive.com</span> </span> </div></a></td></tr></table></div></div> </div> </div></td><td align=\"center\" class=\"e3goi\"><div class=\"jjVJ4e\"> <div> <div class=\"lIMUZd\"><div><table class=\"RntSmf\"><tr><td><a href=\"/url?q=https://www.imdb.com/name/nm5177533/&amp;sa=U&amp;ved=2ahUKEwjU_8GrluyGAxXIRWwGHZj-AkAQqoUBegQIBRAB&amp;usg=AOvVaw2WIX5p68dtqu50JSJpg1-6\"><div class=\"kCmkOe\"><img alt=\"\" class=\"DS1iW\" src=\"https://encrypted-tbn0.gstatic.com/images?q=tbn:ANd9GcQGGqGhi8ekp00bwvT71DLOCN47PO96ESRrF4phNW1zWdBy6kBZgMDmwIg9Ks0&amp;s\"/></div></a></td></tr><tr><td><a href=\"/url?q=https://www.imdb.com/name/nm5177533/&amp;sa=U&amp;ved=2ahUKEwjU_8GrluyGAxXIRWwGHZj-AkAQr4kDegQIBRAC&amp;usg=AOvVaw0hf37uu4s_RRlSnR5L-O1w\"><div class=\"AlD19d\"> <span class=\"qXLe6d x3G5ab\"> <span class=\"fYyStc\">Narendra Modi - IMDb</span> </span> <span class=\"qXLe6d F9iS2e\"> <span class=\"fYyStc\">www.imdb.com</span> </span> </div></a></td></tr></table></div></div> </div> </div></td><td align=\"center\" class=\"e3goi\"><div class=\"jjVJ4e\"> <div> <div class=\"lIMUZd\"><div><table class=\"RntSmf\"><tr><td><a href=\"/url?q=https://www.livelaw.in/top-stories/legal-language-must-be-simplified-common-man-should-feel-law-is-his-own-prime-minister-narendra-modi-238502&amp;sa=U&amp;ved=2ahUKEwjU_8GrluyGAxXIRWwGHZj-AkAQqoUBegQIARAB&amp;usg=AOvVaw3V46BtuTgxQm6p8U8SM7Qm\"><div class=\"kCmkOe\"><img alt=\"\" class=\"DS1iW\" src=\"https://encrypted-tbn0.gstatic.com/images?q=tbn:ANd9GcQceBHWWued02KxWPuCIEcGbzKdDzUJT5XOUXNsY8PJ1aJ90yaUtc4mObK7nA&amp;s\"/></div></a></td></tr><tr><td><a href=\"/url?q=https://www.livelaw.in/top-stories/legal-language-must-be-simplified-common-man-should-feel-law-is-his-own-prime-minister-narendra-modi-238502&amp;sa=U&amp;ved=2ahUKEwjU_8GrluyGAxXIRWwGHZj-AkAQr4kDegQIARAC&amp;usg=AOvVaw2zmjjQEtZnYGpXpunW9KcI\"><div class=\"AlD19d\"> <span class=\"qXLe6d x3G5ab\"> <span class=\"fYyStc\">Prime Minister Narendra...</span> </span> <span class=\"qXLe6d F9iS2e\"> <span class=\"fYyStc\">www.livelaw.in</span> </span> </div></a></td></tr></table></div></div> </div> </div></td><td align=\"center\" class=\"e3goi\"><div class=\"jjVJ4e\"> <div> <div class=\"lIMUZd\"><div><table class=\"RntSmf\"><tr><td><a href=\"/url?q=https://www.amazon.in/zig-zag-Narendra-Picture-Acrylic/dp/B0BB3764W4&amp;sa=U&amp;ved=2ahUKEwjU_8GrluyGAxXIRWwGHZj-AkAQqoUBegQIAxAB&amp;usg=AOvVaw3FnrdpWs_eh0ZHrHLtHsD6\"><div class=\"kCmkOe\"><img alt=\"\" class=\"DS1iW\" src=\"https://encrypted-tbn0.gstatic.com/images?q=tbn:ANd9GcTQ-YDMrFIsdSilY_wDHRLDyud5BsUL3GEay_-1_eOSC_ET9h65K1K2hbtztg&amp;s\"/></div></a></td></tr><tr><td><a href=\"/url?q=https://www.amazon.in/zig-zag-Narendra-Picture-Acrylic/dp/B0BB3764W4&amp;sa=U&amp;ved=2ahUKEwjU_8GrluyGAxXIRWwGHZj-AkAQr4kDegQIAxAC&amp;usg=AOvVaw2yRsi_GubhlNZj-T5gA2zm\"><div class=\"AlD19d\"> <span class=\"qXLe6d x3G5ab\"> <span class=\"fYyStc\">zig zag Narendra Modi ji...</span> </span> <span class=\"qXLe6d F9iS2e\"> <span class=\"fYyStc\">www.amazon.in</span> </span> </div></a></td></tr></table></div></div> </div> </div></td></tr></table></div><table class=\"uZgmoc\"><tbody><td><a class=\"frGj1b\" href=\"/search?q=narendra+modi&amp;sca_esv=d22370baf961194e&amp;biw=1440&amp;bih=743&amp;ie=UTF-8&amp;tbm=isch&amp;ei=6yt1ZpTeN8iLseMPmP2LgAQ&amp;start=20&amp;sa=N\">Next &gt;</a></td></tbody></table><br/><div class=\"TuS8Ad\" data-ved=\"0ahUKEwjU_8GrluyGAxXIRWwGHZj-AkAQpyoIRQ\"><style>.VYM29{font-weight:bold}</style><div align=\"center\" class=\"HddGcc\"><span class=\"VYM29\">Horamavu, Bengaluru, Karnataka</span><span> - </span><span>From your IP address</span><span> - </span><a href=\"/url?q=https://support.google.com/websearch%3Fp%3Dws_settings_location%26hl%3Den-IN&amp;opi=89978449&amp;sa=U&amp;ved=0ahUKEwjU_8GrluyGAxXIRWwGHZj-AkAQty4IRg&amp;usg=AOvVaw1aKUUAnU78jhxhZN-VuLO5\">Learn more</a></div><div align=\"center\"><a class=\"rEM8G\" href=\"/url?q=https://accounts.google.com/ServiceLogin%3Fcontinue%3Dhttps://www.google.com/search%253Fq%253Dnarendra%252Bmodi%2526sca_esv%253Dd22370baf961194e%2526biw%253D1440%2526bih%253D743%2526sxsrf%253DADLYWIIjUvXdzQ4NSjGqns5ScgKZz2v3fg:1718954924024%2526ei%253DrCt1Zq2WAdCV4-EPnZSHgAM%2526ved%253D0ahUKEwitnIaNluyGAxXQyjgGHR3KATAQ4dUDCBA%2526uact%253D5%2526oq%253Dnarendra%252Bmodi%2526gs_lp%253DEgxnd3Mtd2l6LXNlcnAiDW5hcmVuZHJhIG1vZGkyBBAjGCcyCBAAGIAEGLEDMggQABiABBixAzIIEAAYgAQYsQNIiC9QAFgAcAJ4AJABAJgBAKABAKoBALgBA8gBAJgCAqACCZgDAIgGAZIHATKgBwA%2526sclient%253Dgws-wiz-serp%2526tbm%253Disch%26hl%3Den&amp;opi=89978449&amp;sa=U&amp;ved=0ahUKEwjU_8GrluyGAxXIRWwGHZj-AkAQxs8CCEc&amp;usg=AOvVaw09a2jdmYpAXFCsJOpk1EkP\">Sign in</a></div><div><table class=\"bookcf\"><tbody class=\"InWNIe\"><tr><td><a class=\"rEM8G\" href=\"https://www.google.com/preferences?hl=en&amp;sa=X&amp;ved=0ahUKEwjU_8GrluyGAxXIRWwGHZj-AkAQv5YECEg\">Settings</a></td><td><a class=\"rEM8G\" href=\"https://www.google.com/intl/en_in/policies/privacy/\">Privacy</a></td><td><a class=\"rEM8G\" href=\"https://www.google.com/intl/en_in/policies/terms/\">Terms</a></td></tr></tbody></table></div></div><div> </div></body></html>"
      ]
     },
     "execution_count": 25,
     "metadata": {},
     "output_type": "execute_result"
    }
   ],
   "source": [
    "soup"
   ]
  },
  {
   "cell_type": "code",
   "execution_count": 26,
   "metadata": {},
   "outputs": [],
   "source": [
    "#using find_all we are fetching all img tags\n",
    "image_tag=soup.find_all('img')"
   ]
  },
  {
   "cell_type": "code",
   "execution_count": 28,
   "metadata": {},
   "outputs": [],
   "source": [
    "#deleting first tag as it is description\n",
    "del image_tag[0]"
   ]
  },
  {
   "cell_type": "code",
   "execution_count": 29,
   "metadata": {},
   "outputs": [
    {
     "data": {
      "text/plain": [
       "[<img alt=\"\" class=\"DS1iW\" src=\"https://encrypted-tbn0.gstatic.com/images?q=tbn:ANd9GcTkEVfkcyS0Bcu5eQqHV_jeGBdmLc41DKk4RRAkAS1Y7PDYhXuDfVDX-w3K8Co&amp;s\"/>,\n",
       " <img alt=\"\" class=\"DS1iW\" src=\"https://encrypted-tbn0.gstatic.com/images?q=tbn:ANd9GcRhtqI8zw50X3T2kneo7-OLuHyzZDuniRTR4vQcah9zETuVdorrOtu4Q099rg&amp;s\"/>,\n",
       " <img alt=\"\" class=\"DS1iW\" src=\"https://encrypted-tbn0.gstatic.com/images?q=tbn:ANd9GcQhtFVerrP1xegaggczRaWCrfvA0Xvt2ZycaSmhN_vzMT-PXrqjyLcbY-LW6ao&amp;s\"/>,\n",
       " <img alt=\"\" class=\"DS1iW\" src=\"https://encrypted-tbn0.gstatic.com/images?q=tbn:ANd9GcQiLsuk8xv2Xbb61JiGjZ9sgC0scxfZ9yNTHc_aV-q7twSM5Ni_7tTeIVFfiLQ&amp;s\"/>,\n",
       " <img alt=\"\" class=\"DS1iW\" src=\"https://encrypted-tbn0.gstatic.com/images?q=tbn:ANd9GcR5U1JmjNhQIUclzahcQezj9uAbuRIFTFrPqpQeD82xmJbyypFWxbOdF1_h6A&amp;s\"/>,\n",
       " <img alt=\"\" class=\"DS1iW\" src=\"https://encrypted-tbn0.gstatic.com/images?q=tbn:ANd9GcRepSHdSrnD6zcO6lEeMLkrydR81WhQigVX6pr1bPkf4n9zw1G1S4sEmeSVBo0&amp;s\"/>,\n",
       " <img alt=\"\" class=\"DS1iW\" src=\"https://encrypted-tbn0.gstatic.com/images?q=tbn:ANd9GcQrc_lVqQtL9UOadcEbBrqaq3L7UBkT6yfmxIlQs5WVT6XN_Gi5EKClKa1V0A&amp;s\"/>,\n",
       " <img alt=\"\" class=\"DS1iW\" src=\"https://encrypted-tbn0.gstatic.com/images?q=tbn:ANd9GcTsS_5Ntf6Edev2aiQGvMdr1veka_TZ2LkI8ZVw7u3TC6xdtadrHdDytmuReg&amp;s\"/>,\n",
       " <img alt=\"\" class=\"DS1iW\" src=\"https://encrypted-tbn0.gstatic.com/images?q=tbn:ANd9GcSzj6iDfRc1GSrdY7axlj_PC4s3vhYjnLfk-hcsBxGSbgatsqlAzM6boBt3Fg&amp;s\"/>,\n",
       " <img alt=\"\" class=\"DS1iW\" src=\"https://encrypted-tbn0.gstatic.com/images?q=tbn:ANd9GcRKrZrjWt_4X1xl2U_XvP4VVWlBAAbCJU13zxBWx4_mFzzUrCl3YQtv4qsO2Q&amp;s\"/>,\n",
       " <img alt=\"\" class=\"DS1iW\" src=\"https://encrypted-tbn0.gstatic.com/images?q=tbn:ANd9GcRya6-sfVYRN5OXXFh9_kusvohcI3hdQDUtogbqHxuzTK6q-UBCWUkM4fMPLc8&amp;s\"/>,\n",
       " <img alt=\"\" class=\"DS1iW\" src=\"https://encrypted-tbn0.gstatic.com/images?q=tbn:ANd9GcRKovT0f969MoDps2s19j-V-Tp5sWDYyeCT7BCdiPsr1hJEiuNPMQoY3qWcJA&amp;s\"/>,\n",
       " <img alt=\"\" class=\"DS1iW\" src=\"https://encrypted-tbn0.gstatic.com/images?q=tbn:ANd9GcQ298GxPYu5ydy50rWxF4kMVSZ7xpIZG0hz2IYROefhvLAsu7Yf2cyI5-65aiI&amp;s\"/>,\n",
       " <img alt=\"\" class=\"DS1iW\" src=\"https://encrypted-tbn0.gstatic.com/images?q=tbn:ANd9GcQdG3g6bJhzU7lmN7aPbm8CQHdI5wYchWZWKWJT7byKezwliYg3zTn49l-gqA&amp;s\"/>,\n",
       " <img alt=\"\" class=\"DS1iW\" src=\"https://encrypted-tbn0.gstatic.com/images?q=tbn:ANd9GcTngqLCvsrv13Ek1yp0193bNFsEjPPn3iU4kkTv38Na9O-azXCDoOh7an1iQLg&amp;s\"/>,\n",
       " <img alt=\"\" class=\"DS1iW\" src=\"https://encrypted-tbn0.gstatic.com/images?q=tbn:ANd9GcRAfRKZAfbDqLUoanxqa7iCl2E7xN6GMPtDC9GIYgM4Q_r-dIDzaqNr8B1p1w&amp;s\"/>,\n",
       " <img alt=\"\" class=\"DS1iW\" src=\"https://encrypted-tbn0.gstatic.com/images?q=tbn:ANd9GcTw16_I5KBjOPTyvqbqZo7dU9QM4ruyEACZvFLSxPIgNF5K8hBJWufIOw9L0vI&amp;s\"/>,\n",
       " <img alt=\"\" class=\"DS1iW\" src=\"https://encrypted-tbn0.gstatic.com/images?q=tbn:ANd9GcQGGqGhi8ekp00bwvT71DLOCN47PO96ESRrF4phNW1zWdBy6kBZgMDmwIg9Ks0&amp;s\"/>,\n",
       " <img alt=\"\" class=\"DS1iW\" src=\"https://encrypted-tbn0.gstatic.com/images?q=tbn:ANd9GcQceBHWWued02KxWPuCIEcGbzKdDzUJT5XOUXNsY8PJ1aJ90yaUtc4mObK7nA&amp;s\"/>,\n",
       " <img alt=\"\" class=\"DS1iW\" src=\"https://encrypted-tbn0.gstatic.com/images?q=tbn:ANd9GcTQ-YDMrFIsdSilY_wDHRLDyud5BsUL3GEay_-1_eOSC_ET9h65K1K2hbtztg&amp;s\"/>]"
      ]
     },
     "execution_count": 29,
     "metadata": {},
     "output_type": "execute_result"
    }
   ],
   "source": [
    "image_tag"
   ]
  },
  {
   "cell_type": "code",
   "execution_count": 30,
   "metadata": {},
   "outputs": [
    {
     "data": {
      "text/plain": [
       "20"
      ]
     },
     "execution_count": 30,
     "metadata": {},
     "output_type": "execute_result"
    }
   ],
   "source": [
    "len(image_tag)"
   ]
  },
  {
   "cell_type": "code",
   "execution_count": 35,
   "metadata": {},
   "outputs": [],
   "source": [
    "for i in image_tag:\n",
    "    image_url = i['src']\n",
    "    #in image_data we will be getting byte data of the image\n",
    "    image_data = requests.get(image_url).content\n",
    "    with open(os.path.join(save_dir, f\"{query}_{image_tag.index(i)}.png\"),\"wb\") as f:\n",
    "        #writing byte image data in the directory \n",
    "        f.write(image_data)\n",
    "        \n",
    "    "
   ]
  },
  {
   "cell_type": "code",
   "execution_count": null,
   "metadata": {},
   "outputs": [],
   "source": []
  }
 ],
 "metadata": {
  "kernelspec": {
   "display_name": "Python 3",
   "language": "python",
   "name": "python3"
  },
  "language_info": {
   "codemirror_mode": {
    "name": "ipython",
    "version": 3
   },
   "file_extension": ".py",
   "mimetype": "text/x-python",
   "name": "python",
   "nbconvert_exporter": "python",
   "pygments_lexer": "ipython3",
   "version": "3.7.6"
  }
 },
 "nbformat": 4,
 "nbformat_minor": 4
}
